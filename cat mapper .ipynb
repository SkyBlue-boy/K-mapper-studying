{
 "cells": [
  {
   "cell_type": "code",
   "execution_count": 1,
   "metadata": {},
   "outputs": [
    {
     "name": "stdout",
     "output_type": "stream",
     "text": [
      "        1개 파일을 이동했습니다.\n"
     ]
    }
   ],
   "source": [
    "!move C:\\Users\\user\\Downloads\\data\\kepler-mapper\\examples\\data\\cat-reference.csv ."
   ]
  },
  {
   "cell_type": "code",
   "execution_count": 3,
   "metadata": {},
   "outputs": [
    {
     "name": "stdout",
     "output_type": "stream",
     "text": [
      "KeplerMapper()\n",
      "..Composing projection pipeline of length 1:\n",
      "\tProjections: sum\n",
      "\tDistance matrices: False\n",
      "\tScalers: MinMaxScaler()\n",
      "..Projecting on data shaped (7207, 3)\n",
      "\n",
      "..Projecting data using: sum\n",
      "\n",
      "..Scaling with: MinMaxScaler()\n",
      "\n",
      "Mapping on data shaped (7207, 3) using lens shaped (7207, 1)\n",
      "\n",
      "Minimal points in hypercube before clustering: 5\n",
      "Creating 15 hypercubes.\n",
      "   > Found 2 clusters.\n",
      "\n",
      "   > Found 2 clusters.\n",
      "\n",
      "   > Found 2 clusters.\n",
      "\n",
      "   > Found 1 clusters.\n",
      "\n",
      "   > Found 2 clusters.\n",
      "\n",
      "   > Found 2 clusters.\n",
      "\n",
      "   > Found 1 clusters.\n",
      "\n",
      "   > Found 1 clusters.\n",
      "\n",
      "   > Found 1 clusters.\n",
      "\n",
      "   > Found 1 clusters.\n",
      "\n",
      "   > Found 1 clusters.\n",
      "\n",
      "   > Found 1 clusters.\n",
      "\n",
      "   > Found 1 clusters.\n",
      "\n",
      "   > Found 1 clusters.\n",
      "\n",
      "   > Found 1 clusters.\n",
      "\n",
      "\n",
      "Created 19 edges and 20 nodes in 0:00:00.153376.\n"
     ]
    },
    {
     "data": {
      "text/html": [
       "<style>\n",
       "    .container { width:100% !important; }\n",
       "    .output_scroll {height: 800px !important;}\n",
       "    </style>"
      ],
      "text/plain": [
       "<IPython.core.display.HTML object>"
      ]
     },
     "metadata": {},
     "output_type": "display_data"
    },
    {
     "name": "stdout",
     "output_type": "stream",
     "text": [
      "Wrote visualization to: cat-output.html\n"
     ]
    },
    {
     "name": "stderr",
     "output_type": "stream",
     "text": [
      "C:\\Users\\user\\AppData\\Roaming\\Python\\Python37\\site-packages\\IPython\\core\\display.py:717: UserWarning: Consider using IPython.display.IFrame instead\n",
      "  warnings.warn(\"Consider using IPython.display.IFrame instead\")\n"
     ]
    },
    {
     "data": {
      "text/html": [
       "<iframe src=cat-output.html width=100%% height=800 frameBorder=\"0\"></iframe>"
      ],
      "text/plain": [
       "<IPython.core.display.HTML object>"
      ]
     },
     "metadata": {},
     "output_type": "display_data"
    },
    {
     "data": {
      "image/png": "[encoded data removed]",
      "text/plain": [
       "<Figure size 432x288 with 1 Axes>"
      ]
     },
     "metadata": {},
     "output_type": "display_data"
    }
   ],
   "source": [
    "import numpy as np\n",
    "import sklearn\n",
    "import kmapper as km\n",
    "\n",
    "data = np.genfromtxt('cat-reference.csv', delimiter=',')\n",
    "\n",
    "mapper = km.KeplerMapper(verbose=2)\n",
    "\n",
    "lens = mapper.fit_transform(data)\n",
    "\n",
    "graph = mapper.map(lens,\n",
    "                   data,\n",
    "                   clusterer=sklearn.cluster.DBSCAN(eps=0.1, min_samples=5),\n",
    "                   cover=km.Cover(n_cubes=15, perc_overlap=0.2))\n",
    "\n",
    "from kmapper import jupyter\n",
    "html = mapper.visualize(graph, path_html=\"cat-output.html\")\n",
    "jupyter.display(path_html=\"cat-output.html\")\n",
    "\n",
    "\n",
    "km.draw_matplotlib(graph)\n",
    "\n",
    "import matplotlib.pyplot as plt\n",
    "plt.show()"
   ]
  },
  {
   "cell_type": "code",
   "execution_count": null,
   "metadata": {},
   "outputs": [],
   "source": []
  }
 ],
 "metadata": {
  "kernelspec": {
   "display_name": "Python 3",
   "language": "python",
   "name": "python3"
  },
  "language_info": {
   "codemirror_mode": {
    "name": "ipython",
    "version": 3
   },
   "file_extension": ".py",
   "mimetype": "text/x-python",
   "name": "python",
   "nbconvert_exporter": "python",
   "pygments_lexer": "ipython3",
   "version": "3.7.7"
  },
  "toc": {
   "base_numbering": 1,
   "nav_menu": {},
   "number_sections": true,
   "sideBar": true,
   "skip_h1_title": false,
   "title_cell": "Table of Contents",
   "title_sidebar": "Contents",
   "toc_cell": false,
   "toc_position": {},
   "toc_section_display": true,
   "toc_window_display": false
  }
 },
 "nbformat": 4,
 "nbformat_minor": 4
}
